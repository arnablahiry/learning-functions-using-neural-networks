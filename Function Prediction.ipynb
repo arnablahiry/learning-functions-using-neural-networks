{
  "cells": [
    {
      "cell_type": "markdown",
      "metadata": {
        "id": "IsmVKkiwfsaK"
      },
      "source": [
        "Importing the necessary libraries and packages"
      ]
    },
    {
      "cell_type": "code",
      "execution_count": null,
      "metadata": {
        "id": "tdIwyoj9Zjls"
      },
      "outputs": [],
      "source": [
        "import numpy as np\n",
        "import matplotlib\n",
        "import matplotlib.pyplot as plt\n",
        "import torch\n",
        "import time\n",
        "import torch.nn as nn\n",
        "import torch.nn.functional as F\n",
        "from torch.utils.data import SubsetRandomSampler\n",
        "from torch.utils.data import DataLoader\n",
        "%matplotlib inline\n",
        "\n",
        "# Use a white background for matplotlib figures\n",
        "matplotlib.rcParams['figure.facecolor'] = '#ffffff'"
      ]
    },
    {
      "cell_type": "markdown",
      "metadata": {
        "id": "Qn-IC88nf5Kb"
      },
      "source": [
        "Defining the function that the neural network needs to learn"
      ]
    },
    {
      "cell_type": "code",
      "execution_count": null,
      "metadata": {
        "id": "UuRckTR3awDi"
      },
      "outputs": [],
      "source": [
        "def func(x):\n",
        "  y = 2*x**3 + 4*x**2 + 3*x**4 + 7*x**6\n",
        "  return y"
      ]
    },
    {
      "cell_type": "markdown",
      "metadata": {
        "id": "LER_n6FQf_zm"
      },
      "source": [
        "Forming a class to generate datasets as its objects"
      ]
    },
    {
      "cell_type": "code",
      "execution_count": null,
      "metadata": {
        "id": "PHBUmHNoawGW"
      },
      "outputs": [],
      "source": [
        "#data generating class\n",
        "#generating random floating point numbers with a mean = 0, and standard deviation = 1\n",
        "\n",
        "class data_gen():\n",
        "\n",
        "  #initialising the class\n",
        "  def __init__(self,n):\n",
        "    super().__init__()\n",
        "    #using np.random.randn to generate a normalised list of floating point random numbers of length n\n",
        "    x1 = np.random.randn(n)\n",
        "    #converting it to a PyTorch tensor of appropriate rank\n",
        "    x2 = torch.from_numpy(x1)\n",
        "    x = x2.view(n, 1)\n",
        "    self.x = x.to(dtype = torch.float32)\n",
        "\n",
        "    self.size = len(x1)\n",
        "\n",
        "    #passing x through the function func() to generate y \n",
        "    y1 = np.array([float(func(i)) for i in list(self.x.flatten().numpy())])\n",
        "    #generating the mean and standard deviation of the theoretical results\n",
        "    self.mean_y = np.mean(y1)\n",
        "    self.std_y = np.std(y1)\n",
        "    #normalising the theoretical results to a standard normal distribution\n",
        "    #conveting it to a PyTorch tensor of appropriate rank and data type\n",
        "    y2 = torch.from_numpy(np.array([((i - self.mean_y)/(self.std_y)) for i in y1]))\n",
        "    y2 = y2.to(torch.float32)\n",
        "    self.y = y2.view(n, 1)\n",
        "\n",
        "  #returning the mean and standard deviation for subsequent use\n",
        "  def return_stat(self):\n",
        "    return self.mean_y, self.std_y\n",
        "\n",
        "  def __len__(self):\n",
        "    return self.size\n",
        "\n",
        "  def __getitem__(self, idx):\n",
        "    return self.x[idx].float(), self.y[idx].float()"
      ]
    },
    {
      "cell_type": "markdown",
      "metadata": {
        "id": "j1gITxuBjXMU"
      },
      "source": [
        "Randomly splitting the dataset indices into training, validation and test sets"
      ]
    },
    {
      "cell_type": "code",
      "execution_count": null,
      "metadata": {
        "id": "g__q_5eTgL68"
      },
      "outputs": [],
      "source": [
        "#the function takes the total size, validation percentage and test percentage as inputs\n",
        "\n",
        "def split_val(size, val_pct, test_pct):\n",
        "  n_val = int(size*val_pct)\n",
        "  n_test = int(size*test_pct)\n",
        "  #introducing more randomness in the dataset\n",
        "  index = np.random.permutation(size)\n",
        "  #splitting the index array into the training, validation and test sets using slicing operations\n",
        "  return(index[(n_val + n_test):], index[n_val:(n_val + n_test)], index[:n_val])"
      ]
    },
    {
      "cell_type": "markdown",
      "metadata": {
        "id": "yl-JmEGnjjZO"
      },
      "source": [
        "\\Initialising the training set and returning the training and validation indices as NumPy arrays"
      ]
    },
    {
      "cell_type": "code",
      "execution_count": null,
      "metadata": {
        "colab": {
          "base_uri": "https://localhost:8080/"
        },
        "id": "KsEmEjQWyF-E",
        "outputId": "11c3394b-25b3-4088-aa86-676425f26ac2"
      },
      "outputs": [
        {
          "output_type": "stream",
          "name": "stdout",
          "text": [
            "120.62876853953604 692.1278853383033\n",
            "1000\n"
          ]
        }
      ],
      "source": [
        "#defining size of the dataset\n",
        "n = 5000\n",
        "#forming the dataset from the data generating class\n",
        "data_set = data_gen(n)\n",
        "#obtaining the training and validation indices\n",
        "train_idx, val_idx, test_idx = split_val(n, val_pct = 0.2, test_pct = 0.2)\n",
        "#storing the mean and standard deviation of the theoretical results for the whole dataset\n",
        "mean_y, std_y = data_set.return_stat()\n",
        "print(mean_y, std_y)\n",
        "\n",
        "\n",
        "print(len(val_idx))"
      ]
    },
    {
      "cell_type": "markdown",
      "metadata": {
        "id": "XxU-hLTGjzLu"
      },
      "source": [
        "Defining the batchsize for the dataset and forming separate PyTorch DataLoaders for training, vaidation and testing after randomly sampling with respect to the previously obtained training, validation and testing indices respectively"
      ]
    },
    {
      "cell_type": "code",
      "execution_count": null,
      "metadata": {
        "id": "y_xg3DYKawIV"
      },
      "outputs": [],
      "source": [
        "#creating PyTorch DataLoaders for training and validation\n",
        "\n",
        "#defining the data batch size\n",
        "batchsize = 20\n",
        "\n",
        "#randomly sampling the data for training using the previously defined training indices\n",
        "sample_train = SubsetRandomSampler(train_idx)\n",
        "#forming the training DataLoader\n",
        "train_dl = DataLoader(data_set, batchsize, sampler = sample_train)\n",
        "\n",
        "#randomly sampling the data for validation using the previously defined validation indices\n",
        "sample_val = SubsetRandomSampler(val_idx)\n",
        "#forming the training DataLoader\n",
        "valid_dl = DataLoader(data_set, batchsize, sampler = sample_val)\n",
        "\n",
        "sample_test = SubsetRandomSampler(test_idx)\n",
        "#forming the test DataLoader\n",
        "test_dl = DataLoader(data_set, batch_size = 10, sampler = sample_test)"
      ]
    },
    {
      "cell_type": "markdown",
      "metadata": {
        "id": "YcDgIY92kMhE"
      },
      "source": [
        "Initialising the neural network parameters. Since we will be going with a simple feedforward neural network, we use PyTorch's torch.nn.Sequential to describe a basic multi-layer network. The model parameter shapes (weights and biases), and the total number of model parameters are also printed for clarity"
      ]
    },
    {
      "cell_type": "code",
      "execution_count": null,
      "metadata": {
        "colab": {
          "base_uri": "https://localhost:8080/"
        },
        "id": "ZNrlmPCZAF3R",
        "outputId": "7f08c245-9249-4c98-96e5-edca2b16f191"
      },
      "outputs": [
        {
          "output_type": "stream",
          "name": "stdout",
          "text": [
            "Model architecture:\n",
            "\n",
            "torch.Size([512, 1])\n",
            "torch.Size([512])\n",
            "torch.Size([512, 512])\n",
            "torch.Size([512])\n",
            "torch.Size([1, 512])\n",
            "torch.Size([1])\n",
            "\n",
            "total number of parameters in the model = 264193\n"
          ]
        }
      ],
      "source": [
        "input_size = 1\n",
        "hidden_size = 512\n",
        "output_size = 1\n",
        "\n",
        "model = nn.Sequential(\n",
        "    torch.nn.Linear(input_size, hidden_size),\n",
        "    torch.nn.ReLU(),\n",
        "    torch.nn.Linear(hidden_size, hidden_size),\n",
        "    torch.nn.ReLU(),\n",
        "    torch.nn.Linear(hidden_size, output_size),\n",
        ")\n",
        "\n",
        "\n",
        "#checking model parameters\n",
        "print('Model architecture:\\n')\n",
        "for t in model.parameters():\n",
        "  print(t.shape)\n",
        "\n",
        "#displaying the total number of model parameters\n",
        "total_params = sum(t.numel() for t in model.parameters())\n",
        "print('\\ntotal number of parameters in the model = %d'%total_params)"
      ]
    },
    {
      "cell_type": "code",
      "execution_count": null,
      "metadata": {
        "id": "JlbXy1e7ERIZ"
      },
      "outputs": [],
      "source": [
        "def default_device():\n",
        "  #Selects GPU if it is available, otherwise CPU\n",
        "  if torch.cuda.is_available():\n",
        "    return torch.device('cuda')\n",
        "  else:\n",
        "    return torch.device('cpu')\n",
        "\n",
        "\n",
        "def to_device(t, device):\n",
        "  #Moves the tensor t to the chosen device\n",
        "  #the data can be a tensor or a list/tuple of tensors\n",
        "\n",
        "  if isinstance(t, (list,tuple)):\n",
        "    return [to_device(i,device) for i in t]\n",
        "  return t.to(device, non_blocking = True)\n",
        "\n",
        "\n",
        "class DeviceDataLoader():\n",
        "  #moving data to the device only when that batch is called\n",
        "  #This is done instead of the whole batch so that the large dataset does not waste GPU memory\n",
        "\n",
        "  def __init__(self, dl,device):\n",
        "    super().__init__()\n",
        "    self.dl = dl\n",
        "    self.device = device\n",
        "\n",
        "  def __iter__(self):\n",
        "    #yields a batch of data after transferring it to the device\n",
        "    for i in self.dl:\n",
        "      yield to_device(i, self.device)\n",
        "\n",
        "  def __len__(self):\n",
        "    #number of batches\n",
        "    return len(self.dl)\n"
      ]
    },
    {
      "cell_type": "code",
      "execution_count": null,
      "metadata": {
        "colab": {
          "base_uri": "https://localhost:8080/"
        },
        "id": "TdJ5lVXVESDK",
        "outputId": "e5bc538a-2967-4811-fe02-ebc1d8b4988c"
      },
      "outputs": [
        {
          "output_type": "stream",
          "name": "stdout",
          "text": [
            "Using CPU\n"
          ]
        }
      ],
      "source": [
        "device = default_device()\n",
        "if (device == torch.device('cuda')):\n",
        "  print('CUDA Available')\n",
        "  print('Using GPU')\n",
        "\n",
        "else:\n",
        "  print('Using CPU')"
      ]
    },
    {
      "cell_type": "code",
      "source": [
        "for x,y in train_dl:\n",
        "    print(x[0].shape)\n",
        "    break"
      ],
      "metadata": {
        "colab": {
          "base_uri": "https://localhost:8080/"
        },
        "id": "3y8yGLKUCcXZ",
        "outputId": "96e29d66-0c7c-43b9-e44a-648a422e51a2"
      },
      "execution_count": null,
      "outputs": [
        {
          "output_type": "stream",
          "name": "stdout",
          "text": [
            "torch.Size([1])\n"
          ]
        }
      ]
    },
    {
      "cell_type": "code",
      "execution_count": null,
      "metadata": {
        "colab": {
          "base_uri": "https://localhost:8080/"
        },
        "id": "SOb0vjQaEdKb",
        "outputId": "79ae9219-e36c-41f8-a4d6-77a0fc7b5c8c"
      },
      "outputs": [
        {
          "output_type": "execute_result",
          "data": {
            "text/plain": [
              "Sequential(\n",
              "  (0): Linear(in_features=1, out_features=512, bias=True)\n",
              "  (1): ReLU()\n",
              "  (2): Linear(in_features=512, out_features=512, bias=True)\n",
              "  (3): ReLU()\n",
              "  (4): Linear(in_features=512, out_features=1, bias=True)\n",
              ")"
            ]
          },
          "metadata": {},
          "execution_count": 10
        }
      ],
      "source": [
        "#moving the training and validation dataloaders to validation device\n",
        "\n",
        "train_dl = DeviceDataLoader(train_dl, device)\n",
        "valid_dl = DeviceDataLoader(valid_dl, device)\n",
        "\n",
        "to_device(model, device)"
      ]
    },
    {
      "cell_type": "markdown",
      "metadata": {
        "id": "k8YbC4kclcvM"
      },
      "source": [
        "the loss_batch function is defined which calculates the loss for a particular batch with respect to the provided loss function. If the optimiser is provided, this function conducts the backward propagation for the model parameters and updates them based on the learning rate for each iteration. The loss, and length of the data are returned\n"
      ]
    },
    {
      "cell_type": "code",
      "execution_count": null,
      "metadata": {
        "id": "jQsObqHscRc2"
      },
      "outputs": [],
      "source": [
        "def loss_batch(model, loss_fn, x, y, opt = None):\n",
        "\n",
        "  #for a given optimiser function:\n",
        "  if opt is not None:\n",
        "    # get the inputs; data is a list of [inputs, labels]\n",
        "    # zero the parameter gradients\n",
        "    opt.zero_grad()\n",
        "    # forward + backward + optimize\n",
        "    preds = model(x)\n",
        "    loss = loss_fn(preds, y)\n",
        "    loss.backward()\n",
        "    opt.step()\n",
        "\n",
        "  else: \n",
        "    preds = model(x)\n",
        "    loss = loss_fn(preds, y)\n",
        "\n",
        "  return loss.item(), len(x)"
      ]
    },
    {
      "cell_type": "markdown",
      "metadata": {
        "id": "BbaUJPp0l3Yz"
      },
      "source": [
        "The evaluate function is defined which calculates the average loss of the validation dataset per epoch, while training the model."
      ]
    },
    {
      "cell_type": "code",
      "execution_count": null,
      "metadata": {
        "id": "mKbSrj3edydK"
      },
      "outputs": [],
      "source": [
        "def evaluate(model, loss_fn, valid_dl, opt = None):\n",
        "    \n",
        "  #evaluating each batch through the model\n",
        "  for x,y in valid_dl:\n",
        "    loss,counts = loss_batch(model, loss_fn, x, y, opt)\n",
        "\n",
        "  #total size of the dataset\n",
        "  size = np.sum(counts)\n",
        "\n",
        "  #calculating the average loss\n",
        "  #avg_loss = np.sum(np.multiply(loss,counts))/size\n",
        "  avg_loss = np.average(loss)\n",
        "  #returning average loss, total size\n",
        "  return avg_loss, size"
      ]
    },
    {
      "cell_type": "markdown",
      "metadata": {
        "id": "0kQrWn9qDJzv"
      },
      "source": [
        "Checking the initial test and validation loss before training"
      ]
    },
    {
      "cell_type": "code",
      "execution_count": null,
      "metadata": {
        "colab": {
          "base_uri": "https://localhost:8080/"
        },
        "id": "Pl22E1DbC3oa",
        "outputId": "d696006d-9eb1-4a5b-cc5f-09e4061c82a2"
      },
      "outputs": [
        {
          "output_type": "stream",
          "name": "stdout",
          "text": [
            "Initial validation loss: 0.03986233472824097\n",
            "Initial training loss: 0.10104306787252426\n"
          ]
        }
      ],
      "source": [
        "init_val_loss,_ = evaluate(model, F.mse_loss, valid_dl)\n",
        "init_train_loss,_ = evaluate(model, F.mse_loss, train_dl)\n",
        "\n",
        "print('Initial validation loss:', init_val_loss)\n",
        "print('Initial training loss:', init_train_loss)\n"
      ]
    },
    {
      "cell_type": "markdown",
      "metadata": {
        "id": "BiPBc6KEmITN"
      },
      "source": [
        "The fit function runs for a specified number of epochs. it defines the loss function (MSE loss in this case). The optimizer is loaded with the model parameters and provided learning rate. The model trains over the training dataloader and calls the loss_batch function, and then subsequently is evaluated over the validation dataloader by calling the evaluate function to calculate the average validation loss for each epoch."
      ]
    },
    {
      "cell_type": "code",
      "execution_count": null,
      "metadata": {
        "id": "Zy1soQGS0cLb"
      },
      "outputs": [],
      "source": [
        "def fit(epochs,lr, model, train_dl, valid_dl, opt_fn = None):\n",
        "\n",
        "  loss_fn = F.mse_loss\n",
        "  if opt_fn == None:\n",
        "    opt_fn = torch.optim.SGD\n",
        "  opt = opt_fn(model.parameters(), lr=lr)\n",
        "\n",
        "  train_losses = []\n",
        "  val_losses = []\n",
        "\n",
        "  loss1 = []\n",
        "\n",
        "  for epoch in range(epochs):  # loop over the dataset multiple times\n",
        "    model.train()\n",
        "    \n",
        "\n",
        "    train_loss,_ = evaluate(model, loss_fn, train_dl, opt)\n",
        "\n",
        "      \n",
        "    model.eval()\n",
        "    val_loss,_ = evaluate(model,loss_fn,valid_dl)\n",
        "    #train_loss,_ = evaluate(model,loss_fn,train_dl)\n",
        "\n",
        "    #saving the losses for each epoch as a list\n",
        "    val_losses.append(val_loss)\n",
        "    train_losses.append(train_loss)\n",
        "\n",
        "\n",
        "    # printing the validation loss for each 50 epochs\n",
        "    if epoch%1 == 0:\n",
        "      print('Epoch [{}/{}], Training Loss: {:.8f}, Validation Loss: {:.8f}'.format(epoch+1,epochs, train_loss, val_loss))\n",
        "\n",
        "  print('Finished Training')\n",
        "\n",
        "  print('\\nFinal training loss = ', train_losses[-1])\n",
        "  print('Final validation loss = ', val_losses[-1])\n",
        "\n",
        "  #returning the list containing the losses\n",
        "  return train_losses, val_losses"
      ]
    },
    {
      "cell_type": "markdown",
      "metadata": {
        "id": "b9HI4qM0VHEP"
      },
      "source": [
        "Setting the number of epochs, learning rate and the optimizer function and calling the fit function which begins training the model"
      ]
    },
    {
      "cell_type": "code",
      "source": [
        "import torch\n",
        "FILE = '/content/drive/MyDrive/Neural Network Models/poly_predict_model.pth'\n",
        "model = torch.load(FILE, map_location=torch.device('cpu'))"
      ],
      "metadata": {
        "id": "k-mS-GcSGBjq"
      },
      "execution_count": null,
      "outputs": []
    },
    {
      "cell_type": "code",
      "execution_count": null,
      "metadata": {
        "colab": {
          "base_uri": "https://localhost:8080/",
          "height": 1000
        },
        "id": "w07zKXXTm11F",
        "outputId": "749f454d-00be-4fb9-a1c5-311152e130cf"
      },
      "outputs": [
        {
          "output_type": "stream",
          "name": "stdout",
          "text": [
            "Epoch [1/200], Training Loss: 0.00000418, Validation Loss: 0.00000270\n",
            "Epoch [2/200], Training Loss: 0.00000486, Validation Loss: 0.00000635\n",
            "Epoch [3/200], Training Loss: 0.00001370, Validation Loss: 0.00000514\n",
            "Epoch [4/200], Training Loss: 0.00000171, Validation Loss: 0.00000195\n",
            "Epoch [5/200], Training Loss: 0.00000360, Validation Loss: 0.00000348\n",
            "Epoch [6/200], Training Loss: 0.00121095, Validation Loss: 0.00000304\n",
            "Epoch [7/200], Training Loss: 0.00500595, Validation Loss: 0.00001566\n",
            "Epoch [8/200], Training Loss: 0.00000054, Validation Loss: 0.00001913\n",
            "Epoch [9/200], Training Loss: 0.00000337, Validation Loss: 0.00000244\n",
            "Epoch [10/200], Training Loss: 0.00000401, Validation Loss: 0.00000955\n",
            "Epoch [11/200], Training Loss: 0.06953731, Validation Loss: 0.00058163\n",
            "Epoch [12/200], Training Loss: 0.00000083, Validation Loss: 0.00000103\n",
            "Epoch [13/200], Training Loss: 0.00000169, Validation Loss: 0.00000126\n",
            "Epoch [14/200], Training Loss: 0.00027767, Validation Loss: 0.00001124\n",
            "Epoch [15/200], Training Loss: 0.00014660, Validation Loss: 0.00000554\n",
            "Epoch [16/200], Training Loss: 0.00000766, Validation Loss: 0.00000326\n",
            "Epoch [17/200], Training Loss: 0.02573635, Validation Loss: 0.00005436\n",
            "Epoch [18/200], Training Loss: 0.00000217, Validation Loss: 0.00000271\n",
            "Epoch [19/200], Training Loss: 0.07308861, Validation Loss: 0.00082200\n",
            "Epoch [20/200], Training Loss: 0.00000243, Validation Loss: 0.00000138\n",
            "Epoch [21/200], Training Loss: 0.00000141, Validation Loss: 0.00000350\n",
            "Epoch [22/200], Training Loss: 0.00010904, Validation Loss: 0.00003278\n",
            "Epoch [23/200], Training Loss: 0.00000176, Validation Loss: 0.00000085\n",
            "Epoch [24/200], Training Loss: 0.00000243, Validation Loss: 0.00000110\n",
            "Epoch [25/200], Training Loss: 0.00016138, Validation Loss: 0.00002828\n",
            "Epoch [26/200], Training Loss: 0.00000404, Validation Loss: 0.00000087\n",
            "Epoch [27/200], Training Loss: 0.00001280, Validation Loss: 0.00001684\n",
            "Epoch [28/200], Training Loss: 0.00000147, Validation Loss: 0.00000317\n",
            "Epoch [29/200], Training Loss: 0.00000378, Validation Loss: 0.00022573\n",
            "Epoch [30/200], Training Loss: 0.00003681, Validation Loss: 0.00000733\n",
            "Epoch [31/200], Training Loss: 0.00000564, Validation Loss: 0.00000462\n",
            "Epoch [32/200], Training Loss: 0.00004669, Validation Loss: 0.00000474\n",
            "Epoch [33/200], Training Loss: 0.00002204, Validation Loss: 0.10491256\n",
            "Epoch [34/200], Training Loss: 0.00000369, Validation Loss: 0.00000340\n",
            "Epoch [35/200], Training Loss: 0.00000140, Validation Loss: 0.00000049\n",
            "Epoch [36/200], Training Loss: 0.00000119, Validation Loss: 0.00000065\n",
            "Epoch [37/200], Training Loss: 0.00000527, Validation Loss: 0.00000386\n",
            "Epoch [38/200], Training Loss: 0.00001075, Validation Loss: 0.00159545\n",
            "Epoch [39/200], Training Loss: 0.00003961, Validation Loss: 0.00052768\n",
            "Epoch [40/200], Training Loss: 0.00000942, Validation Loss: 0.00000316\n",
            "Epoch [41/200], Training Loss: 0.00000086, Validation Loss: 0.00000191\n",
            "Epoch [42/200], Training Loss: 0.00001118, Validation Loss: 0.00001207\n",
            "Epoch [43/200], Training Loss: 0.00000236, Validation Loss: 0.00028839\n",
            "Epoch [44/200], Training Loss: 0.00000274, Validation Loss: 0.00000183\n",
            "Epoch [45/200], Training Loss: 0.00008203, Validation Loss: 0.00000713\n",
            "Epoch [46/200], Training Loss: 0.00000275, Validation Loss: 0.00000156\n",
            "Epoch [47/200], Training Loss: 0.00000146, Validation Loss: 0.00000090\n",
            "Epoch [48/200], Training Loss: 0.00000304, Validation Loss: 0.00000458\n",
            "Epoch [49/200], Training Loss: 0.00000115, Validation Loss: 0.00309270\n",
            "Epoch [50/200], Training Loss: 0.00000140, Validation Loss: 0.00000031\n",
            "Epoch [51/200], Training Loss: 0.00004699, Validation Loss: 0.00002952\n",
            "Epoch [52/200], Training Loss: 0.00000189, Validation Loss: 0.00000086\n",
            "Epoch [53/200], Training Loss: 0.00000349, Validation Loss: 0.00000396\n",
            "Epoch [54/200], Training Loss: 0.00000312, Validation Loss: 0.00000115\n",
            "Epoch [55/200], Training Loss: 0.00000172, Validation Loss: 0.00000168\n",
            "Epoch [56/200], Training Loss: 0.00000096, Validation Loss: 0.00000336\n",
            "Epoch [57/200], Training Loss: 0.00001264, Validation Loss: 0.00001313\n",
            "Epoch [58/200], Training Loss: 0.00081585, Validation Loss: 0.00001453\n",
            "Epoch [59/200], Training Loss: 0.00000300, Validation Loss: 0.00000126\n",
            "Epoch [60/200], Training Loss: 0.00000083, Validation Loss: 0.00032314\n",
            "Epoch [61/200], Training Loss: 0.18748379, Validation Loss: 0.00194045\n",
            "Epoch [62/200], Training Loss: 0.00000155, Validation Loss: 0.00000257\n",
            "Epoch [63/200], Training Loss: 0.00002302, Validation Loss: 0.00059891\n",
            "Epoch [64/200], Training Loss: 0.00002301, Validation Loss: 0.00007624\n",
            "Epoch [65/200], Training Loss: 0.00000244, Validation Loss: 0.00000053\n",
            "Epoch [66/200], Training Loss: 0.00000137, Validation Loss: 0.00000391\n",
            "Epoch [67/200], Training Loss: 0.00000141, Validation Loss: 0.00000029\n",
            "Epoch [68/200], Training Loss: 0.00000241, Validation Loss: 0.00000179\n",
            "Epoch [69/200], Training Loss: 0.00001286, Validation Loss: 0.00000551\n",
            "Epoch [70/200], Training Loss: 0.00001758, Validation Loss: 0.00001515\n",
            "Epoch [71/200], Training Loss: 0.00000587, Validation Loss: 0.00000498\n",
            "Epoch [72/200], Training Loss: 0.00000598, Validation Loss: 0.00000350\n",
            "Epoch [73/200], Training Loss: 0.00002572, Validation Loss: 0.00000884\n",
            "Epoch [74/200], Training Loss: 0.00000889, Validation Loss: 0.00000370\n",
            "Epoch [75/200], Training Loss: 0.00024611, Validation Loss: 0.00002210\n",
            "Epoch [76/200], Training Loss: 0.00000208, Validation Loss: 0.00000264\n",
            "Epoch [77/200], Training Loss: 0.00000153, Validation Loss: 0.00000175\n",
            "Epoch [78/200], Training Loss: 0.00000130, Validation Loss: 0.00000240\n",
            "Epoch [79/200], Training Loss: 0.00000109, Validation Loss: 0.00000027\n",
            "Epoch [80/200], Training Loss: 0.00000270, Validation Loss: 0.00000226\n",
            "Epoch [81/200], Training Loss: 0.00000948, Validation Loss: 0.00003832\n",
            "Epoch [82/200], Training Loss: 0.00000487, Validation Loss: 0.00000257\n",
            "Epoch [83/200], Training Loss: 0.00000091, Validation Loss: 0.00000649\n",
            "Epoch [84/200], Training Loss: 0.00000333, Validation Loss: 0.00000272\n",
            "Epoch [85/200], Training Loss: 0.00000173, Validation Loss: 0.00000216\n",
            "Epoch [86/200], Training Loss: 0.00000231, Validation Loss: 0.00004921\n",
            "Epoch [87/200], Training Loss: 0.00000335, Validation Loss: 0.00000310\n",
            "Epoch [88/200], Training Loss: 0.00000288, Validation Loss: 0.00000109\n",
            "Epoch [89/200], Training Loss: 0.00000237, Validation Loss: 0.00000442\n",
            "Epoch [90/200], Training Loss: 0.00003173, Validation Loss: 0.00005273\n",
            "Epoch [91/200], Training Loss: 0.00000840, Validation Loss: 0.00001005\n",
            "Epoch [92/200], Training Loss: 0.00002649, Validation Loss: 0.00058952\n",
            "Epoch [93/200], Training Loss: 0.00000518, Validation Loss: 0.00000681\n",
            "Epoch [94/200], Training Loss: 0.00163502, Validation Loss: 0.00019626\n",
            "Epoch [95/200], Training Loss: 0.00003015, Validation Loss: 0.00001241\n",
            "Epoch [96/200], Training Loss: 0.00000096, Validation Loss: 0.00000164\n",
            "Epoch [97/200], Training Loss: 0.00004715, Validation Loss: 0.00005999\n",
            "Epoch [98/200], Training Loss: 0.00004561, Validation Loss: 0.00009472\n",
            "Epoch [99/200], Training Loss: 0.00001705, Validation Loss: 0.00000528\n",
            "Epoch [100/200], Training Loss: 0.00000192, Validation Loss: 0.00000126\n",
            "Epoch [101/200], Training Loss: 0.00000262, Validation Loss: 0.00000293\n",
            "Epoch [102/200], Training Loss: 0.00000181, Validation Loss: 0.00000258\n",
            "Epoch [103/200], Training Loss: 0.00000921, Validation Loss: 0.00074722\n",
            "Epoch [104/200], Training Loss: 0.00001357, Validation Loss: 0.00001868\n",
            "Epoch [105/200], Training Loss: 0.00000456, Validation Loss: 0.00000376\n",
            "Epoch [106/200], Training Loss: 0.00000643, Validation Loss: 0.00000317\n",
            "Epoch [107/200], Training Loss: 0.00000544, Validation Loss: 0.00002553\n",
            "Epoch [108/200], Training Loss: 0.00000113, Validation Loss: 0.00000242\n",
            "Epoch [109/200], Training Loss: 0.00000172, Validation Loss: 0.00000110\n",
            "Epoch [110/200], Training Loss: 0.00000114, Validation Loss: 0.00000320\n",
            "Epoch [111/200], Training Loss: 0.00000452, Validation Loss: 0.00000470\n",
            "Epoch [112/200], Training Loss: 0.00001256, Validation Loss: 0.00002326\n",
            "Epoch [113/200], Training Loss: 0.00000310, Validation Loss: 0.00000089\n",
            "Epoch [114/200], Training Loss: 0.00000259, Validation Loss: 0.00000142\n"
          ]
        },
        {
          "output_type": "error",
          "ename": "KeyboardInterrupt",
          "evalue": "ignored",
          "traceback": [
            "\u001b[0;31m---------------------------------------------------------------------------\u001b[0m",
            "\u001b[0;31mKeyboardInterrupt\u001b[0m                         Traceback (most recent call last)",
            "\u001b[0;32m<ipython-input-40-976b78fbe441>\u001b[0m in \u001b[0;36m<module>\u001b[0;34m()\u001b[0m\n\u001b[1;32m      2\u001b[0m \u001b[0mlearning_rate\u001b[0m \u001b[0;34m=\u001b[0m \u001b[0;36m3e-4\u001b[0m\u001b[0;34m\u001b[0m\u001b[0;34m\u001b[0m\u001b[0m\n\u001b[1;32m      3\u001b[0m \u001b[0;34m\u001b[0m\u001b[0m\n\u001b[0;32m----> 4\u001b[0;31m \u001b[0mtrain_losses\u001b[0m\u001b[0;34m,\u001b[0m \u001b[0mval_losses\u001b[0m \u001b[0;34m=\u001b[0m \u001b[0mfit\u001b[0m\u001b[0;34m(\u001b[0m\u001b[0mepochs\u001b[0m\u001b[0;34m,\u001b[0m\u001b[0mlearning_rate\u001b[0m\u001b[0;34m,\u001b[0m\u001b[0mmodel\u001b[0m\u001b[0;34m,\u001b[0m\u001b[0mtrain_dl\u001b[0m\u001b[0;34m,\u001b[0m\u001b[0mvalid_dl\u001b[0m\u001b[0;34m,\u001b[0m \u001b[0mopt_fn\u001b[0m \u001b[0;34m=\u001b[0m \u001b[0mtorch\u001b[0m\u001b[0;34m.\u001b[0m\u001b[0moptim\u001b[0m\u001b[0;34m.\u001b[0m\u001b[0mSGD\u001b[0m\u001b[0;34m)\u001b[0m\u001b[0;34m\u001b[0m\u001b[0;34m\u001b[0m\u001b[0m\n\u001b[0m\u001b[1;32m      5\u001b[0m \u001b[0mepochs_list\u001b[0m \u001b[0;34m=\u001b[0m \u001b[0;34m[\u001b[0m\u001b[0mi\u001b[0m\u001b[0;34m+\u001b[0m\u001b[0;36m1\u001b[0m \u001b[0;32mfor\u001b[0m \u001b[0mi\u001b[0m \u001b[0;32min\u001b[0m \u001b[0mrange\u001b[0m\u001b[0;34m(\u001b[0m\u001b[0mepochs\u001b[0m\u001b[0;34m)\u001b[0m\u001b[0;34m]\u001b[0m\u001b[0;34m\u001b[0m\u001b[0;34m\u001b[0m\u001b[0m\n",
            "\u001b[0;32m<ipython-input-14-64b7010ce3de>\u001b[0m in \u001b[0;36mfit\u001b[0;34m(epochs, lr, model, train_dl, valid_dl, opt_fn)\u001b[0m\n\u001b[1;32m     19\u001b[0m \u001b[0;34m\u001b[0m\u001b[0m\n\u001b[1;32m     20\u001b[0m     \u001b[0mmodel\u001b[0m\u001b[0;34m.\u001b[0m\u001b[0meval\u001b[0m\u001b[0;34m(\u001b[0m\u001b[0;34m)\u001b[0m\u001b[0;34m\u001b[0m\u001b[0;34m\u001b[0m\u001b[0m\n\u001b[0;32m---> 21\u001b[0;31m     \u001b[0mval_loss\u001b[0m\u001b[0;34m,\u001b[0m\u001b[0m_\u001b[0m \u001b[0;34m=\u001b[0m \u001b[0mevaluate\u001b[0m\u001b[0;34m(\u001b[0m\u001b[0mmodel\u001b[0m\u001b[0;34m,\u001b[0m\u001b[0mloss_fn\u001b[0m\u001b[0;34m,\u001b[0m\u001b[0mvalid_dl\u001b[0m\u001b[0;34m)\u001b[0m\u001b[0;34m\u001b[0m\u001b[0;34m\u001b[0m\u001b[0m\n\u001b[0m\u001b[1;32m     22\u001b[0m     \u001b[0;31m#train_loss,_ = evaluate(model,loss_fn,train_dl)\u001b[0m\u001b[0;34m\u001b[0m\u001b[0;34m\u001b[0m\u001b[0;34m\u001b[0m\u001b[0m\n\u001b[1;32m     23\u001b[0m \u001b[0;34m\u001b[0m\u001b[0m\n",
            "\u001b[0;32m<ipython-input-12-b3dc9bd6094d>\u001b[0m in \u001b[0;36mevaluate\u001b[0;34m(model, loss_fn, valid_dl, opt)\u001b[0m\n\u001b[1;32m      3\u001b[0m   \u001b[0;31m#evaluating each batch through the model\u001b[0m\u001b[0;34m\u001b[0m\u001b[0;34m\u001b[0m\u001b[0;34m\u001b[0m\u001b[0m\n\u001b[1;32m      4\u001b[0m   \u001b[0;32mfor\u001b[0m \u001b[0mx\u001b[0m\u001b[0;34m,\u001b[0m\u001b[0my\u001b[0m \u001b[0;32min\u001b[0m \u001b[0mvalid_dl\u001b[0m\u001b[0;34m:\u001b[0m\u001b[0;34m\u001b[0m\u001b[0;34m\u001b[0m\u001b[0m\n\u001b[0;32m----> 5\u001b[0;31m     \u001b[0mloss\u001b[0m\u001b[0;34m,\u001b[0m\u001b[0mcounts\u001b[0m \u001b[0;34m=\u001b[0m \u001b[0mloss_batch\u001b[0m\u001b[0;34m(\u001b[0m\u001b[0mmodel\u001b[0m\u001b[0;34m,\u001b[0m \u001b[0mloss_fn\u001b[0m\u001b[0;34m,\u001b[0m \u001b[0mx\u001b[0m\u001b[0;34m,\u001b[0m \u001b[0my\u001b[0m\u001b[0;34m,\u001b[0m \u001b[0mopt\u001b[0m\u001b[0;34m)\u001b[0m\u001b[0;34m\u001b[0m\u001b[0;34m\u001b[0m\u001b[0m\n\u001b[0m\u001b[1;32m      6\u001b[0m \u001b[0;34m\u001b[0m\u001b[0m\n\u001b[1;32m      7\u001b[0m   \u001b[0;31m#total size of the dataset\u001b[0m\u001b[0;34m\u001b[0m\u001b[0;34m\u001b[0m\u001b[0;34m\u001b[0m\u001b[0m\n",
            "\u001b[0;32m<ipython-input-11-71f68da66f65>\u001b[0m in \u001b[0;36mloss_batch\u001b[0;34m(model, loss_fn, x, y, opt)\u001b[0m\n\u001b[1;32m     13\u001b[0m \u001b[0;34m\u001b[0m\u001b[0m\n\u001b[1;32m     14\u001b[0m   \u001b[0;32melse\u001b[0m\u001b[0;34m:\u001b[0m\u001b[0;34m\u001b[0m\u001b[0;34m\u001b[0m\u001b[0m\n\u001b[0;32m---> 15\u001b[0;31m     \u001b[0mpreds\u001b[0m \u001b[0;34m=\u001b[0m \u001b[0mmodel\u001b[0m\u001b[0;34m(\u001b[0m\u001b[0mx\u001b[0m\u001b[0;34m)\u001b[0m\u001b[0;34m\u001b[0m\u001b[0;34m\u001b[0m\u001b[0m\n\u001b[0m\u001b[1;32m     16\u001b[0m     \u001b[0mloss\u001b[0m \u001b[0;34m=\u001b[0m \u001b[0mloss_fn\u001b[0m\u001b[0;34m(\u001b[0m\u001b[0mpreds\u001b[0m\u001b[0;34m,\u001b[0m \u001b[0my\u001b[0m\u001b[0;34m)\u001b[0m\u001b[0;34m\u001b[0m\u001b[0;34m\u001b[0m\u001b[0m\n\u001b[1;32m     17\u001b[0m \u001b[0;34m\u001b[0m\u001b[0m\n",
            "\u001b[0;32m/usr/local/lib/python3.7/dist-packages/torch/nn/modules/module.py\u001b[0m in \u001b[0;36m_call_impl\u001b[0;34m(self, *input, **kwargs)\u001b[0m\n\u001b[1;32m   1108\u001b[0m         if not (self._backward_hooks or self._forward_hooks or self._forward_pre_hooks or _global_backward_hooks\n\u001b[1;32m   1109\u001b[0m                 or _global_forward_hooks or _global_forward_pre_hooks):\n\u001b[0;32m-> 1110\u001b[0;31m             \u001b[0;32mreturn\u001b[0m \u001b[0mforward_call\u001b[0m\u001b[0;34m(\u001b[0m\u001b[0;34m*\u001b[0m\u001b[0minput\u001b[0m\u001b[0;34m,\u001b[0m \u001b[0;34m**\u001b[0m\u001b[0mkwargs\u001b[0m\u001b[0;34m)\u001b[0m\u001b[0;34m\u001b[0m\u001b[0;34m\u001b[0m\u001b[0m\n\u001b[0m\u001b[1;32m   1111\u001b[0m         \u001b[0;31m# Do not call functions when jit is used\u001b[0m\u001b[0;34m\u001b[0m\u001b[0;34m\u001b[0m\u001b[0;34m\u001b[0m\u001b[0m\n\u001b[1;32m   1112\u001b[0m         \u001b[0mfull_backward_hooks\u001b[0m\u001b[0;34m,\u001b[0m \u001b[0mnon_full_backward_hooks\u001b[0m \u001b[0;34m=\u001b[0m \u001b[0;34m[\u001b[0m\u001b[0;34m]\u001b[0m\u001b[0;34m,\u001b[0m \u001b[0;34m[\u001b[0m\u001b[0;34m]\u001b[0m\u001b[0;34m\u001b[0m\u001b[0;34m\u001b[0m\u001b[0m\n",
            "\u001b[0;32m/usr/local/lib/python3.7/dist-packages/torch/nn/modules/container.py\u001b[0m in \u001b[0;36mforward\u001b[0;34m(self, input)\u001b[0m\n\u001b[1;32m    139\u001b[0m     \u001b[0;32mdef\u001b[0m \u001b[0mforward\u001b[0m\u001b[0;34m(\u001b[0m\u001b[0mself\u001b[0m\u001b[0;34m,\u001b[0m \u001b[0minput\u001b[0m\u001b[0;34m)\u001b[0m\u001b[0;34m:\u001b[0m\u001b[0;34m\u001b[0m\u001b[0;34m\u001b[0m\u001b[0m\n\u001b[1;32m    140\u001b[0m         \u001b[0;32mfor\u001b[0m \u001b[0mmodule\u001b[0m \u001b[0;32min\u001b[0m \u001b[0mself\u001b[0m\u001b[0;34m:\u001b[0m\u001b[0;34m\u001b[0m\u001b[0;34m\u001b[0m\u001b[0m\n\u001b[0;32m--> 141\u001b[0;31m             \u001b[0minput\u001b[0m \u001b[0;34m=\u001b[0m \u001b[0mmodule\u001b[0m\u001b[0;34m(\u001b[0m\u001b[0minput\u001b[0m\u001b[0;34m)\u001b[0m\u001b[0;34m\u001b[0m\u001b[0;34m\u001b[0m\u001b[0m\n\u001b[0m\u001b[1;32m    142\u001b[0m         \u001b[0;32mreturn\u001b[0m \u001b[0minput\u001b[0m\u001b[0;34m\u001b[0m\u001b[0;34m\u001b[0m\u001b[0m\n\u001b[1;32m    143\u001b[0m \u001b[0;34m\u001b[0m\u001b[0m\n",
            "\u001b[0;32m/usr/local/lib/python3.7/dist-packages/torch/nn/modules/module.py\u001b[0m in \u001b[0;36m_call_impl\u001b[0;34m(self, *input, **kwargs)\u001b[0m\n\u001b[1;32m   1108\u001b[0m         if not (self._backward_hooks or self._forward_hooks or self._forward_pre_hooks or _global_backward_hooks\n\u001b[1;32m   1109\u001b[0m                 or _global_forward_hooks or _global_forward_pre_hooks):\n\u001b[0;32m-> 1110\u001b[0;31m             \u001b[0;32mreturn\u001b[0m \u001b[0mforward_call\u001b[0m\u001b[0;34m(\u001b[0m\u001b[0;34m*\u001b[0m\u001b[0minput\u001b[0m\u001b[0;34m,\u001b[0m \u001b[0;34m**\u001b[0m\u001b[0mkwargs\u001b[0m\u001b[0;34m)\u001b[0m\u001b[0;34m\u001b[0m\u001b[0;34m\u001b[0m\u001b[0m\n\u001b[0m\u001b[1;32m   1111\u001b[0m         \u001b[0;31m# Do not call functions when jit is used\u001b[0m\u001b[0;34m\u001b[0m\u001b[0;34m\u001b[0m\u001b[0;34m\u001b[0m\u001b[0m\n\u001b[1;32m   1112\u001b[0m         \u001b[0mfull_backward_hooks\u001b[0m\u001b[0;34m,\u001b[0m \u001b[0mnon_full_backward_hooks\u001b[0m \u001b[0;34m=\u001b[0m \u001b[0;34m[\u001b[0m\u001b[0;34m]\u001b[0m\u001b[0;34m,\u001b[0m \u001b[0;34m[\u001b[0m\u001b[0;34m]\u001b[0m\u001b[0;34m\u001b[0m\u001b[0;34m\u001b[0m\u001b[0m\n",
            "\u001b[0;32m/usr/local/lib/python3.7/dist-packages/torch/nn/modules/linear.py\u001b[0m in \u001b[0;36mforward\u001b[0;34m(self, input)\u001b[0m\n\u001b[1;32m    101\u001b[0m \u001b[0;34m\u001b[0m\u001b[0m\n\u001b[1;32m    102\u001b[0m     \u001b[0;32mdef\u001b[0m \u001b[0mforward\u001b[0m\u001b[0;34m(\u001b[0m\u001b[0mself\u001b[0m\u001b[0;34m,\u001b[0m \u001b[0minput\u001b[0m\u001b[0;34m:\u001b[0m \u001b[0mTensor\u001b[0m\u001b[0;34m)\u001b[0m \u001b[0;34m->\u001b[0m \u001b[0mTensor\u001b[0m\u001b[0;34m:\u001b[0m\u001b[0;34m\u001b[0m\u001b[0;34m\u001b[0m\u001b[0m\n\u001b[0;32m--> 103\u001b[0;31m         \u001b[0;32mreturn\u001b[0m \u001b[0mF\u001b[0m\u001b[0;34m.\u001b[0m\u001b[0mlinear\u001b[0m\u001b[0;34m(\u001b[0m\u001b[0minput\u001b[0m\u001b[0;34m,\u001b[0m \u001b[0mself\u001b[0m\u001b[0;34m.\u001b[0m\u001b[0mweight\u001b[0m\u001b[0;34m,\u001b[0m \u001b[0mself\u001b[0m\u001b[0;34m.\u001b[0m\u001b[0mbias\u001b[0m\u001b[0;34m)\u001b[0m\u001b[0;34m\u001b[0m\u001b[0;34m\u001b[0m\u001b[0m\n\u001b[0m\u001b[1;32m    104\u001b[0m \u001b[0;34m\u001b[0m\u001b[0m\n\u001b[1;32m    105\u001b[0m     \u001b[0;32mdef\u001b[0m \u001b[0mextra_repr\u001b[0m\u001b[0;34m(\u001b[0m\u001b[0mself\u001b[0m\u001b[0;34m)\u001b[0m \u001b[0;34m->\u001b[0m \u001b[0mstr\u001b[0m\u001b[0;34m:\u001b[0m\u001b[0;34m\u001b[0m\u001b[0;34m\u001b[0m\u001b[0m\n",
            "\u001b[0;31mKeyboardInterrupt\u001b[0m: "
          ]
        }
      ],
      "source": [
        "epochs = 200\n",
        "learning_rate = 3e-4\n",
        "\n",
        "train_losses, val_losses = fit(epochs,learning_rate,model,train_dl,valid_dl, opt_fn = torch.optim.SGD)\n",
        "epochs_list = [i+1 for i in range(epochs)]"
      ]
    },
    {
      "cell_type": "markdown",
      "metadata": {
        "id": "XOzupRNQVPEJ"
      },
      "source": [
        "PLotting the value of validation loss against epoch to show the decrease of the loss with increasing epochs."
      ]
    },
    {
      "cell_type": "code",
      "source": [
        "init_val_loss,_ = evaluate(model, F.mse_loss, valid_dl)\n",
        "init_train_loss,_ = evaluate(model, F.mse_loss, train_dl)\n",
        "\n",
        "print('Initial validation loss:', init_val_loss)\n",
        "print('Initial training loss:', init_train_loss)\n"
      ],
      "metadata": {
        "colab": {
          "base_uri": "https://localhost:8080/"
        },
        "id": "EIQuyKx7OEUT",
        "outputId": "e810fe5c-1d7d-42f2-cb30-29bd319cca90"
      },
      "execution_count": null,
      "outputs": [
        {
          "output_type": "stream",
          "name": "stdout",
          "text": [
            "Initial validation loss: 1.2452457667677663e-05\n",
            "Initial training loss: 0.0010704040760174394\n"
          ]
        }
      ]
    },
    {
      "cell_type": "code",
      "execution_count": null,
      "metadata": {
        "colab": {
          "base_uri": "https://localhost:8080/",
          "height": 73
        },
        "id": "RQ12k9LiQJLR",
        "outputId": "bcbedd24-4be7-402f-ed9c-07d4f031f31d"
      },
      "outputs": [
        {
          "output_type": "execute_result",
          "data": {
            "text/plain": [
              "\"print('\\nPlotting the decrease in validation loss with increasing number of epochs\\n')\\nplt.figure(figsize = (8,5))\\nplt.plot(epochs_list, val_losses, color = 'darkblue', label = 'Loss')\\nplt.title('Validation loss')\\nplt.xlabel('Epochs')\\nplt.ylabel('Loss')\\nplt.grid()\\nplt.legend()\\nplt.show()\""
            ],
            "application/vnd.google.colaboratory.intrinsic+json": {
              "type": "string"
            }
          },
          "metadata": {},
          "execution_count": 1
        }
      ],
      "source": [
        "'''print('\\nPlotting the decrease in validation loss with increasing number of epochs\\n')\n",
        "plt.figure(figsize = (8,5))\n",
        "plt.plot(epochs_list, val_losses, color = 'darkblue', label = 'Loss')\n",
        "plt.title('Validation loss')\n",
        "plt.xlabel('Epochs')\n",
        "plt.ylabel('Loss')\n",
        "plt.grid()\n",
        "plt.legend()\n",
        "plt.show()'''"
      ]
    },
    {
      "cell_type": "code",
      "execution_count": null,
      "metadata": {
        "id": "X94XFE-RI-Uv"
      },
      "outputs": [],
      "source": [
        "'''FILE = '/content/drive/MyDrive/Neural Network Models/poly_predict_model.pth'\n",
        "torch.save(model, FILE)'''"
      ]
    },
    {
      "cell_type": "code",
      "execution_count": null,
      "metadata": {
        "id": "XOgT0AgUR7nS"
      },
      "outputs": [],
      "source": [
        "import torch\n",
        "FILE = '/content/drive/MyDrive/Neural Network Models/poly_predict_model.pth'\n",
        "model = torch.load(FILE, map_location=torch.device('cpu'))"
      ]
    },
    {
      "cell_type": "markdown",
      "metadata": {
        "id": "NSqnDUfBVf80"
      },
      "source": [
        "To test the model on unseen data, we use the test dataloader that we formed in the beginning. For data in this dataloader, we call the trained model to predict the results. Now, since the results were normalised during training, the predicted results are un-normalised using the mean and standard deviation used initially, and then the results are plotted to show the model reliability"
      ]
    },
    {
      "cell_type": "code",
      "execution_count": null,
      "metadata": {
        "colab": {
          "base_uri": "https://localhost:8080/",
          "height": 350
        },
        "id": "FWDGfmxWoICg",
        "outputId": "a67c04b3-6398-4101-bd9a-b1a1355f443a"
      },
      "outputs": [
        {
          "output_type": "display_data",
          "data": {
            "text/plain": [
              "<Figure size 576x360 with 1 Axes>"
            ],
            "image/png": "[encoded data removed]"
          },
          "metadata": {
            "needs_background": "light"
          }
        }
      ],
      "source": [
        "for x,y in test_dl:\n",
        "\n",
        "  x1 = x.flatten().numpy()\n",
        "  y1 = (np.array([((i* std_y) + mean_y) for i in y.flatten().numpy()]))\n",
        "\n",
        "  order = np.argsort(x1)\n",
        "\n",
        "  xs = x1[order]\n",
        "  ys = y1[order]\n",
        "\n",
        "  min_x = min(x1)\n",
        "  max_x = max(x1)\n",
        "\n",
        "  c = ((torch.from_numpy(np.linspace(min_x, max_x, 10000))).view(10000,1)).to(dtype = torch.float32)\n",
        "\n",
        "  #moving model back to CPU for testing\n",
        "\n",
        "  device = torch.device('cpu')\n",
        "  model_cpu = model.to(device)\n",
        "  p = model_cpu(c)\n",
        "  preds_unnorm = np.array([((i* std_y) + mean_y) for i in p.flatten().detach().numpy()])\n",
        "\n",
        "  #print(preds_unnorm)\n",
        "\n",
        "  #print(y1)\n",
        "  #print(preds_unnorm)\n",
        "  plt.figure(figsize = (8,5))\n",
        "  plt.plot(xs, ys, '.', color = 'black', markersize = 12, label = 'Theoretical')\n",
        "  plt.plot(c.flatten().numpy(), preds_unnorm, color = 'darkorange', label = 'Predicted')\n",
        "  plt.title('Theoretical vs Predicted results')\n",
        "  plt.xlabel('Inputs')\n",
        "  plt.ylabel('Outputs')\n",
        "  plt.grid()\n",
        "  plt.legend()\n",
        "  plt.show() \n",
        "  #print(c)\n",
        "  \n",
        "  break\n",
        "\n",
        "\n"
      ]
    },
    {
      "cell_type": "code",
      "execution_count": null,
      "metadata": {
        "id": "li1E-4WtVdRH",
        "colab": {
          "base_uri": "https://localhost:8080/",
          "height": 1000
        },
        "outputId": "1b4a25dd-b312-4288-b292-e7528e9eaa5a"
      },
      "outputs": [
        {
          "output_type": "display_data",
          "data": {
            "text/plain": [
              "<Figure size 576x360 with 1 Axes>"
            ],
            "image/png": "[encoded data removed]"
          },
          "metadata": {
            "needs_background": "light"
          }
        },
        {
          "output_type": "stream",
          "name": "stdout",
          "text": [
            "Testing loss: 0.0006897347630001605\n"
          ]
        },
        {
          "output_type": "display_data",
          "data": {
            "text/plain": [
              "<Figure size 576x360 with 1 Axes>"
            ],
            "image/png": "[encoded data removed]"
          },
          "metadata": {
            "needs_background": "light"
          }
        },
        {
          "output_type": "stream",
          "name": "stdout",
          "text": [
            "Testing loss: 0.0026396866887807846\n"
          ]
        },
        {
          "output_type": "display_data",
          "data": {
            "text/plain": [
              "<Figure size 576x360 with 1 Axes>"
            ],
            "image/png": "[encoded data removed]"
          },
          "metadata": {
            "needs_background": "light"
          }
        },
        {
          "output_type": "stream",
          "name": "stdout",
          "text": [
            "Testing loss: 0.006264179013669491\n"
          ]
        }
      ],
      "source": [
        "sample_train = SubsetRandomSampler(train_idx)\n",
        "#forming the training DataLoader\n",
        "train_dl_plot = DataLoader(data_set, batch_size = len(train_idx), sampler = sample_train)\n",
        "\n",
        "sample_val = SubsetRandomSampler(val_idx)\n",
        "#forming the training DataLoader\n",
        "valid_dl_plot = DataLoader(data_set, batch_size = len(val_idx), sampler = sample_val)\n",
        "\n",
        "sample_test = SubsetRandomSampler(test_idx)\n",
        "#forming the training DataLoader\n",
        "test_dl_plot = DataLoader(data_set, batch_size = len(test_idx), sampler = sample_test)\n",
        "\n",
        "\n",
        "for x,y in train_dl_plot:\n",
        "\n",
        "  x1 = x.flatten().numpy()\n",
        "  y1 = (np.array([((i* std_y) + mean_y) for i in y.flatten().numpy()]))\n",
        "\n",
        "  order = np.argsort(x1)\n",
        "\n",
        "  xs = x1[order]\n",
        "  ys = y1[order]\n",
        "\n",
        "  device = torch.device('cpu')\n",
        "  model_cpu = model.to(device)\n",
        "  p = model_cpu(x)\n",
        "\n",
        "  preds_unnorm = np.array([((i* std_y) + mean_y) for i in p.flatten().detach().numpy()])\n",
        "  yp = preds_unnorm[order]\n",
        "\n",
        "  plt.figure(figsize = (8,5))\n",
        "  plt.plot(xs, ys, color = 'darkblue', label = 'Theoretical')\n",
        "  plt.plot(xs, yp, color = 'chocolate', label = 'Predicted')\n",
        "  plt.title('Training set: Theoretical and Predicted results')\n",
        "  plt.ylabel('y (results)')\n",
        "  plt.xlabel('x (inputs)')\n",
        "  plt.grid()\n",
        "  plt.legend()\n",
        "  plt.show()\n",
        "\n",
        "train_loss,_ = evaluate(model, F.mse_loss, train_dl_plot)\n",
        "print('Training loss:', train_loss)\n",
        "\n",
        "\n",
        "for x,y in valid_dl_plot:\n",
        "\n",
        "  x1 = x.flatten().numpy()\n",
        "  y1 = (np.array([((i* std_y) + mean_y) for i in y.flatten().numpy()]))\n",
        "\n",
        "  order = np.argsort(x1)\n",
        "\n",
        "  xs = x1[order]\n",
        "  ys = y1[order]\n",
        "\n",
        "  device = torch.device('cpu')\n",
        "  model_cpu = model.to(device)\n",
        "  p = model_cpu(x)\n",
        "\n",
        "  preds_unnorm = np.array([((i* std_y) + mean_y) for i in p.flatten().detach().numpy()])\n",
        "  yp = preds_unnorm[order]\n",
        "\n",
        "  plt.figure(figsize = (8,5))\n",
        "  plt.plot(xs, ys, color = 'darkblue', label = 'Theoretical')\n",
        "  plt.plot(xs, yp, color = 'chocolate', label = 'Predicted')\n",
        "  plt.title('Validation set: Theoretical and Predicted results')\n",
        "  plt.ylabel('y (results)')\n",
        "  plt.xlabel('x (inputs)')\n",
        "  plt.grid()\n",
        "  plt.legend()\n",
        "  plt.show()\n",
        "\n",
        "\n",
        "val_loss,_ = evaluate(model, F.mse_loss, valid_dl_plot)\n",
        "print('Validation loss:', val_loss)\n",
        "\n",
        "for x,y in test_dl_plot:\n",
        "\n",
        "  x1 = x.flatten().numpy()\n",
        "  y1 = (np.array([((i* std_y) + mean_y) for i in y.flatten().numpy()]))\n",
        "\n",
        "  order = np.argsort(x1)\n",
        "\n",
        "  xs = x1[order]\n",
        "  ys = y1[order]\n",
        "\n",
        "  device = torch.device('cpu')\n",
        "  model_cpu = model.to(device)\n",
        "  p = model_cpu(x)\n",
        "\n",
        "  preds_unnorm = np.array([((i* std_y) + mean_y) for i in p.flatten().detach().numpy()])\n",
        "  yp = preds_unnorm[order]\n",
        "\n",
        "  plt.figure(figsize = (8,5))\n",
        "  plt.plot(xs, ys, color = 'darkblue', label = 'Theoretical')\n",
        "  plt.plot(xs, yp, color = 'chocolate', label = 'Predicted')\n",
        "  plt.title('Test set: Theoretical and Predicted results')\n",
        "  plt.ylabel('y (results)')\n",
        "  plt.xlabel('x (inputs)')\n",
        "  plt.grid()\n",
        "  plt.legend()\n",
        "  plt.show()\n",
        "\n",
        "\n",
        "test_loss,_ = evaluate(model, F.mse_loss, test_dl_plot)\n",
        "print('Testing loss:', test_loss)\n"
      ]
    }
  ],
  "metadata": {
    "colab": {
      "collapsed_sections": [],
      "provenance": []
    },
    "kernelspec": {
      "display_name": "Python 3",
      "name": "python3"
    },
    "language_info": {
      "name": "python"
    },
    "gpuClass": "standard"
  },
  "nbformat": 4,
  "nbformat_minor": 0
}